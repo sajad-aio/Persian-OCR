{
 "cells": [
  {
   "cell_type": "code",
   "execution_count": 1,
   "metadata": {},
   "outputs": [],
   "source": [
    "import mnist\n",
    "import tensorflow as tf\n",
    "from keras.models import Sequential\n",
    "from keras.layers import Dense, Conv2D,MaxPooling2D,Flatten\n",
    "import matplotlib.pyplot  as plt\n",
    "import numpy as np\n",
    "import cv2\n",
    "%matplotlib widget"
   ]
  },
  {
   "cell_type": "code",
   "execution_count": 2,
   "metadata": {},
   "outputs": [
    {
     "ename": "AttributeError",
     "evalue": "module 'mnist' has no attribute 'train_images'",
     "output_type": "error",
     "traceback": [
      "\u001b[1;31m---------------------------------------------------------------------------\u001b[0m",
      "\u001b[1;31mAttributeError\u001b[0m                            Traceback (most recent call last)",
      "Cell \u001b[1;32mIn[2], line 1\u001b[0m\n\u001b[1;32m----> 1\u001b[0m train_images\u001b[38;5;241m=\u001b[39m\u001b[43mmnist\u001b[49m\u001b[38;5;241;43m.\u001b[39;49m\u001b[43mtrain_images\u001b[49m()\n\u001b[0;32m      2\u001b[0m train_labels\u001b[38;5;241m=\u001b[39mmnist\u001b[38;5;241m.\u001b[39mtrain_labels()\n\u001b[0;32m      3\u001b[0m test_images\u001b[38;5;241m=\u001b[39mmnist\u001b[38;5;241m.\u001b[39mtest_images()\n",
      "\u001b[1;31mAttributeError\u001b[0m: module 'mnist' has no attribute 'train_images'"
     ]
    }
   ],
   "source": [
    "train_images=mnist.train_images()\n",
    "train_labels=mnist.train_labels()\n",
    "test_images=mnist.test_images()\n",
    "test_labels=mnist.test_labels()"
   ]
  },
  {
   "cell_type": "code",
   "execution_count": 3,
   "metadata": {},
   "outputs": [
    {
     "ename": "NameError",
     "evalue": "name 'train_images' is not defined",
     "output_type": "error",
     "traceback": [
      "\u001b[1;31m---------------------------------------------------------------------------\u001b[0m",
      "\u001b[1;31mNameError\u001b[0m                                 Traceback (most recent call last)",
      "Cell \u001b[1;32mIn[3], line 1\u001b[0m\n\u001b[1;32m----> 1\u001b[0m \u001b[43mtrain_images\u001b[49m\u001b[38;5;241m.\u001b[39mshape\n",
      "\u001b[1;31mNameError\u001b[0m: name 'train_images' is not defined"
     ]
    }
   ],
   "source": [
    "train_images.shape"
   ]
  },
  {
   "cell_type": "code",
   "execution_count": 6,
   "metadata": {},
   "outputs": [
    {
     "ename": "NameError",
     "evalue": "name 'train_images' is not defined",
     "output_type": "error",
     "traceback": [
      "\u001b[1;31m---------------------------------------------------------------------------\u001b[0m",
      "\u001b[1;31mNameError\u001b[0m                                 Traceback (most recent call last)",
      "Cell \u001b[1;32mIn[6], line 3\u001b[0m\n\u001b[0;32m      1\u001b[0m plt\u001b[38;5;241m.\u001b[39mclose()\n\u001b[1;32m----> 3\u001b[0m plt\u001b[38;5;241m.\u001b[39mimshow(\u001b[43mtrain_images\u001b[49m[\u001b[38;5;241m2\u001b[39m])\n\u001b[0;32m      5\u001b[0m plt\u001b[38;5;241m.\u001b[39mshow()\n\u001b[0;32m      7\u001b[0m \u001b[38;5;28mprint\u001b[39m(train_labels[\u001b[38;5;241m2\u001b[39m])\n",
      "\u001b[1;31mNameError\u001b[0m: name 'train_images' is not defined"
     ]
    }
   ],
   "source": [
    "plt.close()\n",
    "\n",
    "plt.imshow(train_images[2])\n",
    "\n",
    "plt.show()\n",
    "\n",
    "print(train_labels[2])"
   ]
  },
  {
   "cell_type": "code",
   "execution_count": 5,
   "metadata": {},
   "outputs": [
    {
     "ename": "NameError",
     "evalue": "name 'train_images' is not defined",
     "output_type": "error",
     "traceback": [
      "\u001b[1;31m---------------------------------------------------------------------------\u001b[0m",
      "\u001b[1;31mNameError\u001b[0m                                 Traceback (most recent call last)",
      "Cell \u001b[1;32mIn[5], line 1\u001b[0m\n\u001b[1;32m----> 1\u001b[0m train_images\u001b[38;5;241m=\u001b[39m\u001b[43mtrain_images\u001b[49m\u001b[38;5;241m/\u001b[39m\u001b[38;5;241m255\u001b[39m\n\u001b[0;32m      2\u001b[0m test_images\u001b[38;5;241m=\u001b[39mtest_images\u001b[38;5;241m/\u001b[39m\u001b[38;5;241m255\u001b[39m\n",
      "\u001b[1;31mNameError\u001b[0m: name 'train_images' is not defined"
     ]
    }
   ],
   "source": [
    "train_images=train_images/255\n",
    "test_images=test_images/255"
   ]
  },
  {
   "cell_type": "code",
   "execution_count": null,
   "metadata": {},
   "outputs": [],
   "source": [
    "train_images[0]"
   ]
  },
  {
   "cell_type": "code",
   "execution_count": 18,
   "metadata": {},
   "outputs": [],
   "source": [
    "train_images=np.expand_dims(train_images,axis=3)\n",
    "test_images=np.expand_dims(test_images,axis=3)"
   ]
  },
  {
   "cell_type": "code",
   "execution_count": 19,
   "metadata": {},
   "outputs": [
    {
     "data": {
      "text/plain": [
       "(60000, 28, 28, 1)"
      ]
     },
     "execution_count": 19,
     "metadata": {},
     "output_type": "execute_result"
    }
   ],
   "source": [
    "train_images.shape"
   ]
  },
  {
   "cell_type": "code",
   "execution_count": 21,
   "metadata": {},
   "outputs": [],
   "source": [
    "model=Sequential()\n",
    "\n",
    "model.add(Conv2D(filters=8, kernel_size=(3,3),activation='relu',input_shape=(28,28,1)))\n",
    "model.add(MaxPooling2D((2,2)))\n",
    "model.add(Flatten())\n",
    "model.add(Dense(32,activation='relu'))\n",
    "model.add(Dense(10))"
   ]
  },
  {
   "cell_type": "code",
   "execution_count": 22,
   "metadata": {},
   "outputs": [
    {
     "name": "stdout",
     "output_type": "stream",
     "text": [
      "Model: \"sequential_2\"\n",
      "_________________________________________________________________\n",
      " Layer (type)                Output Shape              Param #   \n",
      "=================================================================\n",
      " conv2d_2 (Conv2D)           (None, 26, 26, 8)         80        \n",
      "                                                                 \n",
      " max_pooling2d (MaxPooling2D  (None, 13, 13, 8)        0         \n",
      " )                                                               \n",
      "                                                                 \n",
      " flatten (Flatten)           (None, 1352)              0         \n",
      "                                                                 \n",
      " dense (Dense)               (None, 32)                43296     \n",
      "                                                                 \n",
      " dense_1 (Dense)             (None, 10)                330       \n",
      "                                                                 \n",
      "=================================================================\n",
      "Total params: 43,706\n",
      "Trainable params: 43,706\n",
      "Non-trainable params: 0\n",
      "_________________________________________________________________\n"
     ]
    }
   ],
   "source": [
    "model.summary()"
   ]
  },
  {
   "cell_type": "code",
   "execution_count": 23,
   "metadata": {},
   "outputs": [],
   "source": [
    "model.compile(optimizer='adam', loss=tf.keras.losses.SparseCategoricalCrossentropy(from_logits=True),metrics=['accuracy'])"
   ]
  },
  {
   "cell_type": "code",
   "execution_count": 24,
   "metadata": {},
   "outputs": [
    {
     "name": "stdout",
     "output_type": "stream",
     "text": [
      "Epoch 1/10\n",
      "1875/1875 [==============================] - 8s 4ms/step - loss: 0.2702 - accuracy: 0.9255 - val_loss: 0.1226 - val_accuracy: 0.9629\n",
      "Epoch 2/10\n",
      "1875/1875 [==============================] - 10s 5ms/step - loss: 0.0951 - accuracy: 0.9717 - val_loss: 0.0756 - val_accuracy: 0.9759\n",
      "Epoch 3/10\n",
      "1875/1875 [==============================] - 9s 5ms/step - loss: 0.0665 - accuracy: 0.9805 - val_loss: 0.0610 - val_accuracy: 0.9810\n",
      "Epoch 4/10\n",
      "1875/1875 [==============================] - 9s 5ms/step - loss: 0.0525 - accuracy: 0.9837 - val_loss: 0.0546 - val_accuracy: 0.9813\n",
      "Epoch 5/10\n",
      "1875/1875 [==============================] - 9s 5ms/step - loss: 0.0430 - accuracy: 0.9867 - val_loss: 0.0497 - val_accuracy: 0.9831\n",
      "Epoch 6/10\n",
      "1875/1875 [==============================] - 9s 5ms/step - loss: 0.0366 - accuracy: 0.9887 - val_loss: 0.0552 - val_accuracy: 0.9823\n",
      "Epoch 7/10\n",
      "1875/1875 [==============================] - 9s 5ms/step - loss: 0.0300 - accuracy: 0.9908 - val_loss: 0.0551 - val_accuracy: 0.9835\n",
      "Epoch 8/10\n",
      "1875/1875 [==============================] - 9s 5ms/step - loss: 0.0260 - accuracy: 0.9920 - val_loss: 0.0526 - val_accuracy: 0.9840\n",
      "Epoch 9/10\n",
      "1875/1875 [==============================] - 10s 5ms/step - loss: 0.0220 - accuracy: 0.9929 - val_loss: 0.0540 - val_accuracy: 0.9842\n",
      "Epoch 10/10\n",
      "1875/1875 [==============================] - 9s 5ms/step - loss: 0.0192 - accuracy: 0.9939 - val_loss: 0.0532 - val_accuracy: 0.9840\n"
     ]
    },
    {
     "data": {
      "text/plain": [
       "<keras.callbacks.History at 0x16415311dc0>"
      ]
     },
     "execution_count": 24,
     "metadata": {},
     "output_type": "execute_result"
    }
   ],
   "source": [
    "model.fit(train_images, train_labels, epochs=10, validation_data=(test_images,test_labels))"
   ]
  },
  {
   "cell_type": "code",
   "execution_count": 25,
   "metadata": {},
   "outputs": [],
   "source": [
    "model.save('ocr.h5')"
   ]
  },
  {
   "cell_type": "code",
   "execution_count": 26,
   "metadata": {},
   "outputs": [
    {
     "name": "stdout",
     "output_type": "stream",
     "text": [
      "313/313 [==============================] - 1s 2ms/step\n"
     ]
    }
   ],
   "source": [
    "out=model.predict(test_images)"
   ]
  },
  {
   "cell_type": "code",
   "execution_count": 28,
   "metadata": {},
   "outputs": [
    {
     "data": {
      "application/vnd.jupyter.widget-view+json": {
       "model_id": "1f01c0d68b4a45f397f7fa7ba95139b8",
       "version_major": 2,
       "version_minor": 0
      },
      "image/png": "[encoded data removed]",
      "text/html": [
       "\n",
       "            <div style=\"display: inline-block;\">\n",
       "                <div class=\"jupyter-widgets widget-label\" style=\"text-align: center;\">\n",
       "                    Figure\n",
       "                </div>\n",
       "                <img src='data:image/png;base64,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' width=640.0/>\n",
       "            </div>\n",
       "        "
      ],
      "text/plain": [
       "Canvas(toolbar=Toolbar(toolitems=[('Home', 'Reset original view', 'home', 'home'), ('Back', 'Back to previous …"
      ]
     },
     "metadata": {},
     "output_type": "display_data"
    },
    {
     "name": "stdout",
     "output_type": "stream",
     "text": [
      "7\n"
     ]
    }
   ],
   "source": [
    "plt.close()\n",
    "\n",
    "plt.imshow(test_images[0])\n",
    "\n",
    "plt.show()\n",
    "\n",
    "print(test_labels[0])"
   ]
  },
  {
   "cell_type": "code",
   "execution_count": 27,
   "metadata": {},
   "outputs": [
    {
     "data": {
      "text/plain": [
       "array([ -7.7145805 ,  -2.95895   ,   0.38148403,   1.6815965 ,\n",
       "        -9.058028  ,  -6.6207333 , -20.822285  ,  15.367444  ,\n",
       "        -6.810512  ,  -0.71761495], dtype=float32)"
      ]
     },
     "execution_count": 27,
     "metadata": {},
     "output_type": "execute_result"
    }
   ],
   "source": [
    "out[0]"
   ]
  },
  {
   "cell_type": "code",
   "execution_count": 48,
   "metadata": {},
   "outputs": [
    {
     "data": {
      "application/vnd.jupyter.widget-view+json": {
       "model_id": "fcef67587563424a87846da394209d4d",
       "version_major": 2,
       "version_minor": 0
      },
      "image/png": "[encoded data removed]",
      "text/html": [
       "\n",
       "            <div style=\"display: inline-block;\">\n",
       "                <div class=\"jupyter-widgets widget-label\" style=\"text-align: center;\">\n",
       "                    Figure\n",
       "                </div>\n",
       "                <img src='data:image/png;base64,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' width=640.0/>\n",
       "            </div>\n",
       "        "
      ],
      "text/plain": [
       "Canvas(toolbar=Toolbar(toolitems=[('Home', 'Reset original view', 'home', 'home'), ('Back', 'Back to previous …"
      ]
     },
     "metadata": {},
     "output_type": "display_data"
    },
    {
     "name": "stdout",
     "output_type": "stream",
     "text": [
      "1/1 [==============================] - 0s 44ms/step\n",
      "8\n"
     ]
    }
   ],
   "source": [
    "\n",
    "# model.load_weights('ocr.h5')\n",
    "\n",
    "\n",
    "img=cv2.imread('8.jpg')\n",
    "img=cv2.cvtColor(img, cv2.COLOR_BGR2GRAY)\n",
    "img = cv2.resize(img,(28,28))\n",
    "\n",
    "\n",
    "img= cv2.bitwise_not(img)\n",
    "\n",
    "\n",
    "\n",
    "img = img/255\n",
    "\n",
    "\n",
    "\n",
    "\n",
    "\n",
    "plt.close()\n",
    "\n",
    "plt.imshow(img)\n",
    "\n",
    "plt.show()\n",
    "\n",
    "img= np.array([img])\n",
    "\n",
    "\n",
    "img=np.expand_dims(img, axis=3)\n",
    "\n",
    "\n",
    "out2= model.predict(img)\n",
    "\n",
    "m=-1000\n",
    "o2=out2[0]\n",
    "ind=-1\n",
    "\n",
    "for i in range(len(o2)):\n",
    "    if o2[i]>m:\n",
    "        m=o2[i]\n",
    "        ind=i\n",
    "\n",
    "\n",
    "print(ind)"
   ]
  }
 ],
 "metadata": {
  "kernelspec": {
   "display_name": "Python 3",
   "language": "python",
   "name": "python3"
  },
  "language_info": {
   "codemirror_mode": {
    "name": "ipython",
    "version": 3
   },
   "file_extension": ".py",
   "mimetype": "text/x-python",
   "name": "python",
   "nbconvert_exporter": "python",
   "pygments_lexer": "ipython3",
   "version": "3.8.8"
  },
  "orig_nbformat": 4
 },
 "nbformat": 4,
 "nbformat_minor": 2
}
